{
 "cells": [
  {
   "cell_type": "markdown",
   "metadata": {},
   "source": [
    "### Imports of the Methods\n",
    "\n",
    "I feel like I may have imported too much"
   ]
  },
  {
   "cell_type": "code",
   "execution_count": 1,
   "metadata": {},
   "outputs": [],
   "source": [
    "import pandas as pd\n",
    "import numpy as np\n",
    "import astropy.units as u\n",
    "import astropy\n",
    "from astropy.time import Time\n",
    "from astropy.coordinates import SkyCoord\n",
    "import pytz\n",
    "from astroplan import Observer, FixedTarget\n",
    "import warnings\n",
    "warnings.filterwarnings('ignore', category=Warning)\n",
    "%matplotlib inline\n",
    "import matplotlib.pyplot as plt\n",
    "from astroplan import time_grid_from_range\n",
    "from astroplan.plots import plot_sky, plot_airmass\n",
    "from astroplan import AltitudeConstraint, AirmassConstraint, AtNightConstraint\n",
    "from astroplan import observability_table\n",
    "from astroplan import MoonSeparationConstraint\n",
    "from operator import itemgetter"
   ]
  },
  {
   "cell_type": "markdown",
   "metadata": {},
   "source": [
    "### Reading\n",
    "*In the Data*"
   ]
  },
  {
   "cell_type": "code",
   "execution_count": 2,
   "metadata": {},
   "outputs": [],
   "source": [
    "data = pd.read_csv(r'browse_results.csv')"
   ]
  },
  {
   "cell_type": "markdown",
   "metadata": {},
   "source": [
    "Has the data imported correctly?"
   ]
  },
  {
   "cell_type": "code",
   "execution_count": 3,
   "metadata": {},
   "outputs": [
    {
     "data": {
      "text/html": [
       "<div>\n",
       "<style scoped>\n",
       "    .dataframe tbody tr th:only-of-type {\n",
       "        vertical-align: middle;\n",
       "    }\n",
       "\n",
       "    .dataframe tbody tr th {\n",
       "        vertical-align: top;\n",
       "    }\n",
       "\n",
       "    .dataframe thead th {\n",
       "        text-align: right;\n",
       "    }\n",
       "</style>\n",
       "<table border=\"1\" class=\"dataframe\">\n",
       "  <thead>\n",
       "    <tr style=\"text-align: right;\">\n",
       "      <th></th>\n",
       "      <th>name</th>\n",
       "      <th>ra</th>\n",
       "      <th>dec</th>\n",
       "      <th>bjmag</th>\n",
       "      <th>redshift</th>\n",
       "      <th>field_info</th>\n",
       "    </tr>\n",
       "  </thead>\n",
       "  <tbody>\n",
       "    <tr>\n",
       "      <th>0</th>\n",
       "      <td>LBQS 0003+0146</td>\n",
       "      <td>1.4480</td>\n",
       "      <td>2.0504</td>\n",
       "      <td>16.55</td>\n",
       "      <td>0.234</td>\n",
       "      <td>F823</td>\n",
       "    </tr>\n",
       "    <tr>\n",
       "      <th>1</th>\n",
       "      <td>LBQS 0003+0011</td>\n",
       "      <td>1.4883</td>\n",
       "      <td>0.4771</td>\n",
       "      <td>18.10</td>\n",
       "      <td>0.259</td>\n",
       "      <td>F823</td>\n",
       "    </tr>\n",
       "    <tr>\n",
       "      <th>2</th>\n",
       "      <td>LBQS 0004+0036</td>\n",
       "      <td>1.7916</td>\n",
       "      <td>0.8912</td>\n",
       "      <td>17.79</td>\n",
       "      <td>0.317</td>\n",
       "      <td>F823</td>\n",
       "    </tr>\n",
       "    <tr>\n",
       "      <th>3</th>\n",
       "      <td>LBQS 0004+0224</td>\n",
       "      <td>1.8626</td>\n",
       "      <td>2.6866</td>\n",
       "      <td>17.33</td>\n",
       "      <td>0.300</td>\n",
       "      <td>F823</td>\n",
       "    </tr>\n",
       "    <tr>\n",
       "      <th>4</th>\n",
       "      <td>LBQS 0006+0015</td>\n",
       "      <td>2.1447</td>\n",
       "      <td>0.5320</td>\n",
       "      <td>17.41</td>\n",
       "      <td>0.263</td>\n",
       "      <td>F823</td>\n",
       "    </tr>\n",
       "  </tbody>\n",
       "</table>\n",
       "</div>"
      ],
      "text/plain": [
       "             name      ra     dec  bjmag  redshift field_info\n",
       "0  LBQS 0003+0146  1.4480  2.0504  16.55     0.234       F823\n",
       "1  LBQS 0003+0011  1.4883  0.4771  18.10     0.259       F823\n",
       "2  LBQS 0004+0036  1.7916  0.8912  17.79     0.317       F823\n",
       "3  LBQS 0004+0224  1.8626  2.6866  17.33     0.300       F823\n",
       "4  LBQS 0006+0015  2.1447  0.5320  17.41     0.263       F823"
      ]
     },
     "execution_count": 3,
     "metadata": {},
     "output_type": "execute_result"
    }
   ],
   "source": [
    "data[:5]"
   ]
  },
  {
   "cell_type": "markdown",
   "metadata": {},
   "source": [
    "Send it to the Matrix"
   ]
  },
  {
   "cell_type": "code",
   "execution_count": 4,
   "metadata": {},
   "outputs": [
    {
     "data": {
      "text/plain": [
       "array([['LBQS 0003+0146', 1.4480000000000002, 2.0504, 16.55,\n",
       "        0.23399999999999999, 'F823'],\n",
       "       ['LBQS 0003+0011', 1.4883, 0.4771, 18.1, 0.259, 'F823'],\n",
       "       ['LBQS 0004+0036', 1.7916, 0.8912, 17.79, 0.317, 'F823'],\n",
       "       ['LBQS 0004+0224', 1.8626, 2.6866, 17.33, 0.3, 'F823'],\n",
       "       ['LBQS 0006+0015', 2.1447, 0.532, 17.41, 0.263, 'F823'],\n",
       "       ['LBQS 0008-0001', 2.7287, 0.2474, 18.41, 0.243, 'F823'],\n",
       "       ['LBQS 0014+0122', 4.1781, 1.6575, 18.74, 0.29100000000000004,\n",
       "        'F824'],\n",
       "       ['LBQS 0015+0119', 4.441, 1.6056, 18.27, 0.23600000000000002,\n",
       "        'F824'],\n",
       "       ['LBQS 0016+0105', 4.7095, 1.364, 18.69, 0.319, 'F824'],\n",
       "       ['LBQS 0017+0212', 5.1383, 2.4811, 18.47, 0.256, 'F824'],\n",
       "       ['LBQS 0019+0022A', 5.421, 0.6448, 18.64, 0.314, 'F824'],\n",
       "       ['LBQS 0023+0058', 6.5868, 1.2548, 18.7, 0.27399999999999997,\n",
       "        'F824'],\n",
       "       ['LBQS 0023+0228', 6.5914, 2.7449, 18.43, 0.23600000000000002,\n",
       "        'F824'],\n",
       "       ['LBQS 0025+0009', 6.9685, 0.4376, 18.49, 0.205, 'F824'],\n",
       "       ['LBQS 0026-0136', 7.3551, -1.3333, 18.34, 0.322, 'F824'],\n",
       "       ['LBQS 0046-2611', 12.154000000000002, -25.9214, 18.48,\n",
       "        0.23399999999999999, 'SGP'],\n",
       "       ['LBQS 0055-0206', 14.5207, -1.8378, 17.49, 0.239, 'F826'],\n",
       "       ['LBQS 0057-0135', 14.9534, -1.3183, 17.93, 0.325, 'F826'],\n",
       "       ['LBQS 0059+0004', 15.4628, 0.3413, 18.61, 0.32299999999999995,\n",
       "        'F826'],\n",
       "       ['LBQS 0059-2639', 15.5571, -26.3966, 18.21, 0.22, 'SGP'],\n",
       "       ['LBQS 0101-2611', 15.9535, -25.9166, 17.98, 0.27699999999999997,\n",
       "        'SGP'],\n",
       "       ['LBQS 0101-0124', 16.0446, -1.1467, 18.76, 0.21100000000000002,\n",
       "        'F826'],\n",
       "       ['LBQS 0103+0104', 16.5798, 1.3387, 18.34, 0.256, 'F826'],\n",
       "       ['LBQS 0109+0242', 17.9954, 2.9797, 18.37, 0.262, 'F826'],\n",
       "       ['LBQS 0248+0107', 42.7698, 1.3246, 18.45, 0.231, 'F832'],\n",
       "       ['LBQS 0300-0246', 45.6952, -2.5764, 18.29, 0.249, 'F832'],\n",
       "       ['LBQS 0307-0159', 47.5795, -1.8109, 18.32, 0.207, 'F832'],\n",
       "       ['LBQS 1010+0219', 153.3006, 2.0709, 17.68, 0.222, 'F854'],\n",
       "       ['LBQS 1010-0056', 153.3217, -1.1824, 18.33, 0.20199999999999999,\n",
       "        'F854'],\n",
       "       ['LBQS 1014+0007', 154.2444, -0.1192, 18.45, 0.337, 'F854'],\n",
       "       ['LBQS 1015-0120', 154.5459, -1.6006, 18.41, 0.319, 'F854'],\n",
       "       ['LBQS 1022-0005', 156.2105, -0.3508, 18.28, 0.32299999999999995,\n",
       "        'F854'],\n",
       "       ['LBQS 1024-0116', 156.8757, -1.5224, 18.18, 0.322, 'F854'],\n",
       "       ['LBQS 1026-0144', 157.2384, -1.9898, 17.13, 0.217, 'F854'],\n",
       "       ['LBQS 1026-0032', 157.3364, -0.7966, 18.58, 0.258, 'F854'],\n",
       "       ['LBQS 1129-0229', 173.1254, -2.7726, 17.74, 0.33299999999999996,\n",
       "        'F858'],\n",
       "       ['LBQS 1131-0039', 173.6344, -0.9303, 17.91, 0.268, 'F858'],\n",
       "       ['LBQS 1132-0302', 173.7703, -3.3143, 17.01, 0.237, 'F858'],\n",
       "       ['LBQS 1136-0257', 174.6782, -3.2346, 18.55, 0.213, 'F858'],\n",
       "       ['LBQS 1137-0048', 175.0181, -1.0911, 18.0, 0.34700000000000003,\n",
       "        'F858'],\n",
       "       ['LBQS 1140-0054', 175.7009, -1.1825, 18.0, 0.223, 'F858'],\n",
       "       ['LBQS 1141+0227', 176.0303, 2.1774, 17.72, 0.21600000000000003,\n",
       "        'F858'],\n",
       "       ['LBQS 1213+1708', 183.91099999999997, 16.8561, 18.72, 0.265,\n",
       "        'VSW'],\n",
       "       ['LBQS 1214+0826', 184.3171, 8.1616, 17.3, 0.34299999999999997,\n",
       "        'VNW'],\n",
       "       ['LBQS 1218+1611', 185.2604, 15.9128, 17.78, 0.231, 'VSW'],\n",
       "       ['LBQS 1220+1006', 185.8007, 9.8384, 17.77, 0.276, 'VNW'],\n",
       "       ['LBQS 1228+1116', 187.7255, 11.003, 17.42, 0.237, 'VSE'],\n",
       "       ['LBQS 1229+1711', 188.0172, 16.9229, 18.83, 0.209, 'VNE'],\n",
       "       ['LBQS 1230+1430', 188.203, 14.2407, 17.67, 0.332, 'VNE'],\n",
       "       ['LBQS 1230+1440', 188.3003, 14.3979, 18.77, 0.313, 'VNE'],\n",
       "       ['LBQS 1233+1532', 31.2694, 5.0846, 8.44, 0.228, 'NE'],\n",
       "       ['LBQS 1234-0212', 189.1661, -2.4768, 18.01, 0.305, 'F861'],\n",
       "       ['LBQS 1234+0956', 189.3587, 9.6626, 17.92, 0.20199999999999999,\n",
       "        'VSE'],\n",
       "       ['LBQS 1235+1329', 189.5894, 13.2126, 18.49, 0.34700000000000003,\n",
       "        'VNE'],\n",
       "       ['LBQS 1236+1543', 189.7199, 15.4495, 17.64, 0.315, 'VNE'],\n",
       "       ['LBQS 1237+0216', 189.96099999999998, 2.0063, 18.46, 0.336,\n",
       "        'F861'],\n",
       "       ['LBQS 1241+1228', 190.9296, 12.1995, 17.86, 0.32, 'VSE'],\n",
       "       ['LBQS 1242+1749', 191.2451, 17.5491, 17.7, 0.264, 'VNE'],\n",
       "       ['LBQS 1244-0126', 191.87900000000002, -1.7078, 17.58,\n",
       "        0.34600000000000003, 'F861'],\n",
       "       ['LBQS 1311+0217', 198.6104, 2.0208, 16.99, 0.306, 'F863'],\n",
       "       ['LBQS 1317-0142', 199.9598, -1.9678, 17.26, 0.225, 'F863'],\n",
       "       ['LBQS 1321-0145', 200.9702, -2.0172, 17.71, 0.22399999999999998,\n",
       "        'F863'],\n",
       "       ['LBQS 1331-0123', 203.6384, -1.6404, 18.32, 0.29, 'F864'],\n",
       "       ['LBQS 1334-0005', 204.2046, -0.3494, 18.1, 0.298, 'F864'],\n",
       "       ['LBQS 1334+0113', 204.3604, 0.9745, 18.27, 0.33, 'F864'],\n",
       "       ['LBQS 1338-0038', 205.308, -0.8876, 17.91, 0.23600000000000002,\n",
       "        'F864'],\n",
       "       ['LBQS 1339+0210', 205.5675, 1.9218, 17.89, 0.27399999999999997,\n",
       "        'F864'],\n",
       "       ['LBQS 1340-0038', 205.715, -0.8961, 16.98, 0.326, 'F864'],\n",
       "       ['LBQS 1341+0115', 205.97, 1.0025, 18.33, 0.254, 'F864'],\n",
       "       ['LBQS 1342-0000', 206.2477, -0.2667, 17.77, 0.244, 'F864'],\n",
       "       ['LBQS 1344-0245', 206.6668, -3.0039, 18.1, 0.222, 'F864'],\n",
       "       ['LBQS 1431+0142', 218.4507, 1.4937, 18.24, 0.21100000000000002,\n",
       "        'F867'],\n",
       "       ['LBQS 1433-0016', 219.1034, -0.4847, 17.79, 0.325, 'F867'],\n",
       "       ['LBQS 1441+0142', 220.9988, 1.499, 17.19, 0.29600000000000004,\n",
       "        'F867'],\n",
       "       ['LBQS 1446+0224', 222.1721, 2.2092, 17.85, 0.212, 'F867'],\n",
       "       ['LBQS 1446-0035', 222.3772, -0.7962, 18.07, 0.254, 'F867'],\n",
       "       ['LBQS 2129-4307', 323.0701, -42.9033, 18.4, 0.311, 'F287'],\n",
       "       ['LBQS 2135-4243', 324.5998, -42.5046, 17.16, 0.257, 'F287'],\n",
       "       ['LBQS 2135-4530', 324.6151, -45.288000000000004, 17.7, 0.308,\n",
       "        'F287'],\n",
       "       ['LBQS 2139-4303', 325.7655, -42.8241, 17.47, 0.32, 'F287'],\n",
       "       ['LBQS 2212-1634', 333.7325, -16.3248, 17.79, 0.29600000000000004,\n",
       "        'MTF'],\n",
       "       ['LBQS 2249+0234', 343.0273, 2.8336, 18.42, 0.284, 'F891'],\n",
       "       ['LBQS 2352+0025', 358.7379, 0.7054, 17.8, 0.271, 'F823']],\n",
       "      dtype=object)"
      ]
     },
     "execution_count": 4,
     "metadata": {},
     "output_type": "execute_result"
    }
   ],
   "source": [
    "data_values = data.as_matrix()\n",
    "data_values"
   ]
  },
  {
   "cell_type": "code",
   "execution_count": 5,
   "metadata": {},
   "outputs": [],
   "source": [
    "targets = [FixedTarget(coord=SkyCoord(ra = RA*u.hourangle, dec = DEC*u.deg), name=Name)\n",
    "           for Name, RA, DEC, bjmag, redshift, field_info in data_values]"
   ]
  },
  {
   "cell_type": "code",
   "execution_count": 6,
   "metadata": {},
   "outputs": [
    {
     "data": {
      "text/plain": [
       "[<FixedTarget \"LBQS 0003+0146\" at SkyCoord (ICRS): (ra, dec) in deg (21.72, 2.0504)>,\n",
       " <FixedTarget \"LBQS 0003+0011\" at SkyCoord (ICRS): (ra, dec) in deg (22.3245, 0.4771)>,\n",
       " <FixedTarget \"LBQS 0004+0036\" at SkyCoord (ICRS): (ra, dec) in deg (26.874, 0.8912)>,\n",
       " <FixedTarget \"LBQS 0004+0224\" at SkyCoord (ICRS): (ra, dec) in deg (27.939, 2.6866)>,\n",
       " <FixedTarget \"LBQS 0006+0015\" at SkyCoord (ICRS): (ra, dec) in deg (32.1705, 0.532)>,\n",
       " <FixedTarget \"LBQS 0008-0001\" at SkyCoord (ICRS): (ra, dec) in deg (40.9305, 0.2474)>,\n",
       " <FixedTarget \"LBQS 0014+0122\" at SkyCoord (ICRS): (ra, dec) in deg (62.6715, 1.6575)>,\n",
       " <FixedTarget \"LBQS 0015+0119\" at SkyCoord (ICRS): (ra, dec) in deg (66.615, 1.6056)>,\n",
       " <FixedTarget \"LBQS 0016+0105\" at SkyCoord (ICRS): (ra, dec) in deg (70.6425, 1.364)>,\n",
       " <FixedTarget \"LBQS 0017+0212\" at SkyCoord (ICRS): (ra, dec) in deg (77.0745, 2.4811)>,\n",
       " <FixedTarget \"LBQS 0019+0022A\" at SkyCoord (ICRS): (ra, dec) in deg (81.315, 0.6448)>,\n",
       " <FixedTarget \"LBQS 0023+0058\" at SkyCoord (ICRS): (ra, dec) in deg (98.802, 1.2548)>,\n",
       " <FixedTarget \"LBQS 0023+0228\" at SkyCoord (ICRS): (ra, dec) in deg (98.871, 2.7449)>,\n",
       " <FixedTarget \"LBQS 0025+0009\" at SkyCoord (ICRS): (ra, dec) in deg (104.5275, 0.4376)>,\n",
       " <FixedTarget \"LBQS 0026-0136\" at SkyCoord (ICRS): (ra, dec) in deg (110.3265, -1.3333)>,\n",
       " <FixedTarget \"LBQS 0046-2611\" at SkyCoord (ICRS): (ra, dec) in deg (182.31, -25.9214)>,\n",
       " <FixedTarget \"LBQS 0055-0206\" at SkyCoord (ICRS): (ra, dec) in deg (217.8105, -1.8378)>,\n",
       " <FixedTarget \"LBQS 0057-0135\" at SkyCoord (ICRS): (ra, dec) in deg (224.301, -1.3183)>,\n",
       " <FixedTarget \"LBQS 0059+0004\" at SkyCoord (ICRS): (ra, dec) in deg (231.942, 0.3413)>,\n",
       " <FixedTarget \"LBQS 0059-2639\" at SkyCoord (ICRS): (ra, dec) in deg (233.3565, -26.3966)>,\n",
       " <FixedTarget \"LBQS 0101-2611\" at SkyCoord (ICRS): (ra, dec) in deg (239.3025, -25.9166)>,\n",
       " <FixedTarget \"LBQS 0101-0124\" at SkyCoord (ICRS): (ra, dec) in deg (240.669, -1.1467)>,\n",
       " <FixedTarget \"LBQS 0103+0104\" at SkyCoord (ICRS): (ra, dec) in deg (248.697, 1.3387)>,\n",
       " <FixedTarget \"LBQS 0109+0242\" at SkyCoord (ICRS): (ra, dec) in deg (269.931, 2.9797)>,\n",
       " <FixedTarget \"LBQS 0248+0107\" at SkyCoord (ICRS): (ra, dec) in deg (281.547, 1.3246)>,\n",
       " <FixedTarget \"LBQS 0300-0246\" at SkyCoord (ICRS): (ra, dec) in deg (325.428, -2.5764)>,\n",
       " <FixedTarget \"LBQS 0307-0159\" at SkyCoord (ICRS): (ra, dec) in deg (353.6925, -1.8109)>,\n",
       " <FixedTarget \"LBQS 1010+0219\" at SkyCoord (ICRS): (ra, dec) in deg (139.509, 2.0709)>,\n",
       " <FixedTarget \"LBQS 1010-0056\" at SkyCoord (ICRS): (ra, dec) in deg (139.8255, -1.1824)>,\n",
       " <FixedTarget \"LBQS 1014+0007\" at SkyCoord (ICRS): (ra, dec) in deg (153.666, -0.1192)>,\n",
       " <FixedTarget \"LBQS 1015-0120\" at SkyCoord (ICRS): (ra, dec) in deg (158.1885, -1.6006)>,\n",
       " <FixedTarget \"LBQS 1022-0005\" at SkyCoord (ICRS): (ra, dec) in deg (183.1575, -0.3508)>,\n",
       " <FixedTarget \"LBQS 1024-0116\" at SkyCoord (ICRS): (ra, dec) in deg (193.1355, -1.5224)>,\n",
       " <FixedTarget \"LBQS 1026-0144\" at SkyCoord (ICRS): (ra, dec) in deg (198.576, -1.9898)>,\n",
       " <FixedTarget \"LBQS 1026-0032\" at SkyCoord (ICRS): (ra, dec) in deg (200.046, -0.7966)>,\n",
       " <FixedTarget \"LBQS 1129-0229\" at SkyCoord (ICRS): (ra, dec) in deg (76.881, -2.7726)>,\n",
       " <FixedTarget \"LBQS 1131-0039\" at SkyCoord (ICRS): (ra, dec) in deg (84.516, -0.9303)>,\n",
       " <FixedTarget \"LBQS 1132-0302\" at SkyCoord (ICRS): (ra, dec) in deg (86.5545, -3.3143)>,\n",
       " <FixedTarget \"LBQS 1136-0257\" at SkyCoord (ICRS): (ra, dec) in deg (100.173, -3.2346)>,\n",
       " <FixedTarget \"LBQS 1137-0048\" at SkyCoord (ICRS): (ra, dec) in deg (105.2715, -1.0911)>,\n",
       " <FixedTarget \"LBQS 1140-0054\" at SkyCoord (ICRS): (ra, dec) in deg (115.5135, -1.1825)>,\n",
       " <FixedTarget \"LBQS 1141+0227\" at SkyCoord (ICRS): (ra, dec) in deg (120.4545, 2.1774)>,\n",
       " <FixedTarget \"LBQS 1213+1708\" at SkyCoord (ICRS): (ra, dec) in deg (238.665, 16.8561)>,\n",
       " <FixedTarget \"LBQS 1214+0826\" at SkyCoord (ICRS): (ra, dec) in deg (244.7565, 8.1616)>,\n",
       " <FixedTarget \"LBQS 1218+1611\" at SkyCoord (ICRS): (ra, dec) in deg (258.906, 15.9128)>,\n",
       " <FixedTarget \"LBQS 1220+1006\" at SkyCoord (ICRS): (ra, dec) in deg (267.0105, 9.8384)>,\n",
       " <FixedTarget \"LBQS 1228+1116\" at SkyCoord (ICRS): (ra, dec) in deg (295.8825, 11.003)>,\n",
       " <FixedTarget \"LBQS 1229+1711\" at SkyCoord (ICRS): (ra, dec) in deg (300.258, 16.9229)>,\n",
       " <FixedTarget \"LBQS 1230+1430\" at SkyCoord (ICRS): (ra, dec) in deg (303.045, 14.2407)>,\n",
       " <FixedTarget \"LBQS 1230+1440\" at SkyCoord (ICRS): (ra, dec) in deg (304.5045, 14.3979)>,\n",
       " <FixedTarget \"LBQS 1233+1532\" at SkyCoord (ICRS): (ra, dec) in deg (109.041, 5.0846)>,\n",
       " <FixedTarget \"LBQS 1234-0212\" at SkyCoord (ICRS): (ra, dec) in deg (317.4915, -2.4768)>,\n",
       " <FixedTarget \"LBQS 1234+0956\" at SkyCoord (ICRS): (ra, dec) in deg (320.3805, 9.6626)>,\n",
       " <FixedTarget \"LBQS 1235+1329\" at SkyCoord (ICRS): (ra, dec) in deg (323.841, 13.2126)>,\n",
       " <FixedTarget \"LBQS 1236+1543\" at SkyCoord (ICRS): (ra, dec) in deg (325.7985, 15.4495)>,\n",
       " <FixedTarget \"LBQS 1237+0216\" at SkyCoord (ICRS): (ra, dec) in deg (329.415, 2.0063)>,\n",
       " <FixedTarget \"LBQS 1241+1228\" at SkyCoord (ICRS): (ra, dec) in deg (343.944, 12.1995)>,\n",
       " <FixedTarget \"LBQS 1242+1749\" at SkyCoord (ICRS): (ra, dec) in deg (348.6765, 17.5491)>,\n",
       " <FixedTarget \"LBQS 1244-0126\" at SkyCoord (ICRS): (ra, dec) in deg (358.185, -1.7078)>,\n",
       " <FixedTarget \"LBQS 1311+0217\" at SkyCoord (ICRS): (ra, dec) in deg (99.156, 2.0208)>,\n",
       " <FixedTarget \"LBQS 1317-0142\" at SkyCoord (ICRS): (ra, dec) in deg (119.397, -1.9678)>,\n",
       " <FixedTarget \"LBQS 1321-0145\" at SkyCoord (ICRS): (ra, dec) in deg (134.553, -2.0172)>,\n",
       " <FixedTarget \"LBQS 1331-0123\" at SkyCoord (ICRS): (ra, dec) in deg (174.576, -1.6404)>,\n",
       " <FixedTarget \"LBQS 1334-0005\" at SkyCoord (ICRS): (ra, dec) in deg (183.069, -0.3494)>,\n",
       " <FixedTarget \"LBQS 1334+0113\" at SkyCoord (ICRS): (ra, dec) in deg (185.406, 0.9745)>,\n",
       " <FixedTarget \"LBQS 1338-0038\" at SkyCoord (ICRS): (ra, dec) in deg (199.62, -0.8876)>,\n",
       " <FixedTarget \"LBQS 1339+0210\" at SkyCoord (ICRS): (ra, dec) in deg (203.5125, 1.9218)>,\n",
       " <FixedTarget \"LBQS 1340-0038\" at SkyCoord (ICRS): (ra, dec) in deg (205.725, -0.8961)>,\n",
       " <FixedTarget \"LBQS 1341+0115\" at SkyCoord (ICRS): (ra, dec) in deg (209.55, 1.0025)>,\n",
       " <FixedTarget \"LBQS 1342-0000\" at SkyCoord (ICRS): (ra, dec) in deg (213.7155, -0.2667)>,\n",
       " <FixedTarget \"LBQS 1344-0245\" at SkyCoord (ICRS): (ra, dec) in deg (220.002, -3.0039)>,\n",
       " <FixedTarget \"LBQS 1431+0142\" at SkyCoord (ICRS): (ra, dec) in deg (36.7605, 1.4937)>,\n",
       " <FixedTarget \"LBQS 1433-0016\" at SkyCoord (ICRS): (ra, dec) in deg (46.551, -0.4847)>,\n",
       " <FixedTarget \"LBQS 1441+0142\" at SkyCoord (ICRS): (ra, dec) in deg (74.982, 1.499)>,\n",
       " <FixedTarget \"LBQS 1446+0224\" at SkyCoord (ICRS): (ra, dec) in deg (92.5815, 2.2092)>,\n",
       " <FixedTarget \"LBQS 1446-0035\" at SkyCoord (ICRS): (ra, dec) in deg (95.658, -0.7962)>,\n",
       " <FixedTarget \"LBQS 2129-4307\" at SkyCoord (ICRS): (ra, dec) in deg (166.0515, -42.9033)>,\n",
       " <FixedTarget \"LBQS 2135-4243\" at SkyCoord (ICRS): (ra, dec) in deg (188.997, -42.5046)>,\n",
       " <FixedTarget \"LBQS 2135-4530\" at SkyCoord (ICRS): (ra, dec) in deg (189.2265, -45.288)>,\n",
       " <FixedTarget \"LBQS 2139-4303\" at SkyCoord (ICRS): (ra, dec) in deg (206.4825, -42.8241)>,\n",
       " <FixedTarget \"LBQS 2212-1634\" at SkyCoord (ICRS): (ra, dec) in deg (325.9875, -16.3248)>,\n",
       " <FixedTarget \"LBQS 2249+0234\" at SkyCoord (ICRS): (ra, dec) in deg (105.4095, 2.8336)>,\n",
       " <FixedTarget \"LBQS 2352+0025\" at SkyCoord (ICRS): (ra, dec) in deg (341.0685, 0.7054)>]"
      ]
     },
     "execution_count": 6,
     "metadata": {},
     "output_type": "execute_result"
    }
   ],
   "source": [
    "targets"
   ]
  },
  {
   "cell_type": "markdown",
   "metadata": {},
   "source": [
    "#### Hooray\n",
    "I now have a list of fixed targets to look at.\n",
    "Set the observer location"
   ]
  },
  {
   "cell_type": "code",
   "execution_count": 7,
   "metadata": {},
   "outputs": [
    {
     "name": "stdout",
     "output_type": "stream",
     "text": [
      "Downloading http://data.astropy.org/coordinates/sites.json [Done]\n"
     ]
    }
   ],
   "source": [
    "aao = Observer.at_site('AAO')"
   ]
  },
  {
   "cell_type": "code",
   "execution_count": 8,
   "metadata": {},
   "outputs": [
    {
     "data": {
      "text/plain": [
       "<Observer: name='AAO',\n",
       "    location (lon, lat, el)=(149.06608611111113 deg, -31.277038888888896 deg, 1164.0000000016162 m),\n",
       "    timezone=<UTC>>"
      ]
     },
     "execution_count": 8,
     "metadata": {},
     "output_type": "execute_result"
    }
   ],
   "source": [
    "aao"
   ]
  },
  {
   "cell_type": "markdown",
   "metadata": {},
   "source": [
    "**It Checks Out** According to Wikipedia!"
   ]
  },
  {
   "cell_type": "code",
   "execution_count": 9,
   "metadata": {},
   "outputs": [],
   "source": [
    "aao.timezone = pytz.timezone('Australia/Sydney')"
   ]
  },
  {
   "cell_type": "code",
   "execution_count": 10,
   "metadata": {},
   "outputs": [
    {
     "data": {
      "text/plain": [
       "<Observer: name='AAO',\n",
       "    location (lon, lat, el)=(149.06608611111113 deg, -31.277038888888896 deg, 1164.0000000016162 m),\n",
       "    timezone=<DstTzInfo 'Australia/Sydney' LMT+10:05:00 STD>>"
      ]
     },
     "execution_count": 10,
     "metadata": {},
     "output_type": "execute_result"
    }
   ],
   "source": [
    "aao"
   ]
  },
  {
   "cell_type": "markdown",
   "metadata": {},
   "source": [
    "### Timezone\n",
    "We're in the right timezone!\n",
    "Window of observation"
   ]
  },
  {
   "cell_type": "code",
   "execution_count": 11,
   "metadata": {},
   "outputs": [],
   "source": [
    "observe_start = Time(\"2018-10-15 12:00:00\")\n",
    "observe_end = Time(\"2018-11-01 12:00:00\")"
   ]
  },
  {
   "cell_type": "code",
   "execution_count": 12,
   "metadata": {},
   "outputs": [],
   "source": [
    "observing_range = [observe_start, observe_end]\n",
    "constraints = [AirmassConstraint(2), AtNightConstraint(), MoonSeparationConstraint(25*u.deg)]"
   ]
  },
  {
   "cell_type": "code",
   "execution_count": 13,
   "metadata": {},
   "outputs": [
    {
     "name": "stdout",
     "output_type": "stream",
     "text": [
      "Downloading http://maia.usno.navy.mil/ser7/finals2000A.all [Done]\n"
     ]
    },
    {
     "data": {
      "text/html": [
       "<i>Table length=83</i>\n",
       "<table id=\"table90693894832\" class=\"table-striped table-bordered table-condensed\">\n",
       "<thead><tr><th>target name</th><th>ever observable</th><th>always observable</th><th>fraction of time observable</th></tr></thead>\n",
       "<thead><tr><th>str15</th><th>bool</th><th>bool</th><th>float64</th></tr></thead>\n",
       "<tr><td>LBQS 0003+0146</td><td>True</td><td>False</td><td>0.22426470588235295</td></tr>\n",
       "<tr><td>LBQS 0003+0011</td><td>True</td><td>False</td><td>0.23039215686274508</td></tr>\n",
       "<tr><td>LBQS 0004+0036</td><td>True</td><td>False</td><td>0.22916666666666666</td></tr>\n",
       "<tr><td>LBQS 0004+0224</td><td>True</td><td>False</td><td>0.22549019607843138</td></tr>\n",
       "<tr><td>LBQS 0006+0015</td><td>True</td><td>False</td><td>0.24754901960784315</td></tr>\n",
       "<tr><td>LBQS 0008-0001</td><td>True</td><td>False</td><td>0.2340686274509804</td></tr>\n",
       "<tr><td>LBQS 0014+0122</td><td>True</td><td>False</td><td>0.22549019607843138</td></tr>\n",
       "<tr><td>LBQS 0015+0119</td><td>True</td><td>False</td><td>0.2267156862745098</td></tr>\n",
       "<tr><td>LBQS 0016+0105</td><td>True</td><td>False</td><td>0.20710784313725492</td></tr>\n",
       "<tr><td>LBQS 0017+0212</td><td>True</td><td>False</td><td>0.19240196078431374</td></tr>\n",
       "<tr><td>...</td><td>...</td><td>...</td><td>...</td></tr>\n",
       "<tr><td>LBQS 1441+0142</td><td>True</td><td>False</td><td>0.19975490196078433</td></tr>\n",
       "<tr><td>LBQS 1446+0224</td><td>True</td><td>False</td><td>0.16789215686274508</td></tr>\n",
       "<tr><td>LBQS 1446-0035</td><td>True</td><td>False</td><td>0.16666666666666666</td></tr>\n",
       "<tr><td>LBQS 2129-4307</td><td>True</td><td>False</td><td>0.056372549019607844</td></tr>\n",
       "<tr><td>LBQS 2135-4243</td><td>True</td><td>False</td><td>0.0024509803921568627</td></tr>\n",
       "<tr><td>LBQS 2135-4530</td><td>True</td><td>False</td><td>0.003676470588235294</td></tr>\n",
       "<tr><td>LBQS 2139-4303</td><td>False</td><td>False</td><td>0.0</td></tr>\n",
       "<tr><td>LBQS 2212-1634</td><td>True</td><td>False</td><td>0.17892156862745098</td></tr>\n",
       "<tr><td>LBQS 2249+0234</td><td>True</td><td>False</td><td>0.13602941176470587</td></tr>\n",
       "<tr><td>LBQS 2352+0025</td><td>True</td><td>False</td><td>0.18995098039215685</td></tr>\n",
       "</table>"
      ],
      "text/plain": [
       "<Table length=83>\n",
       " target name   ever observable always observable fraction of time observable\n",
       "    str15            bool             bool                 float64          \n",
       "-------------- --------------- ----------------- ---------------------------\n",
       "LBQS 0003+0146            True             False         0.22426470588235295\n",
       "LBQS 0003+0011            True             False         0.23039215686274508\n",
       "LBQS 0004+0036            True             False         0.22916666666666666\n",
       "LBQS 0004+0224            True             False         0.22549019607843138\n",
       "LBQS 0006+0015            True             False         0.24754901960784315\n",
       "LBQS 0008-0001            True             False          0.2340686274509804\n",
       "LBQS 0014+0122            True             False         0.22549019607843138\n",
       "LBQS 0015+0119            True             False          0.2267156862745098\n",
       "LBQS 0016+0105            True             False         0.20710784313725492\n",
       "LBQS 0017+0212            True             False         0.19240196078431374\n",
       "           ...             ...               ...                         ...\n",
       "LBQS 1441+0142            True             False         0.19975490196078433\n",
       "LBQS 1446+0224            True             False         0.16789215686274508\n",
       "LBQS 1446-0035            True             False         0.16666666666666666\n",
       "LBQS 2129-4307            True             False        0.056372549019607844\n",
       "LBQS 2135-4243            True             False       0.0024509803921568627\n",
       "LBQS 2135-4530            True             False        0.003676470588235294\n",
       "LBQS 2139-4303           False             False                         0.0\n",
       "LBQS 2212-1634            True             False         0.17892156862745098\n",
       "LBQS 2249+0234            True             False         0.13602941176470587\n",
       "LBQS 2352+0025            True             False         0.18995098039215685"
      ]
     },
     "execution_count": 13,
     "metadata": {},
     "output_type": "execute_result"
    }
   ],
   "source": [
    "observing_table = observability_table(constraints, aao, targets, time_range=observing_range)\n",
    "\n",
    "observing_table"
   ]
  },
  {
   "cell_type": "code",
   "execution_count": 14,
   "metadata": {},
   "outputs": [
    {
     "name": "stdout",
     "output_type": "stream",
     "text": [
      " target name   ever observable always observable fraction of time observable\n",
      "-------------- --------------- ----------------- ---------------------------\n",
      "LBQS 0003+0011            True             False         0.23039215686274508\n",
      "LBQS 0004+0036            True             False         0.22916666666666666\n",
      "LBQS 0004+0224            True             False         0.22549019607843138\n",
      "LBQS 0006+0015            True             False         0.24754901960784315\n",
      "LBQS 0008-0001            True             False          0.2340686274509804\n",
      "LBQS 0014+0122            True             False         0.22549019607843138\n",
      "LBQS 0015+0119            True             False          0.2267156862745098\n",
      "LBQS 1244-0126            True             False          0.2267156862745098\n",
      "LBQS 1431+0142            True             False          0.2267156862745098\n",
      "LBQS 1433-0016            True             False         0.25245098039215685\n"
     ]
    }
   ],
   "source": [
    "mask1 = observing_table['fraction of time observable'] > .225\n",
    "coordlist = []\n",
    "#table_observe_sort = observing_table.sort_valuessorted(observing_table, key=itemgetter(3), reverse=True)\n",
    "observable_table = observing_table[mask1]\n",
    "print(observable_table)"
   ]
  },
  {
   "cell_type": "code",
   "execution_count": 15,
   "metadata": {},
   "outputs": [
    {
     "name": "stdout",
     "output_type": "stream",
     "text": [
      "<SkyCoord (ICRS): (ra, dec) in deg\n",
      "    (1.488523, 0.477165)>\n",
      "<SkyCoord (ICRS): (ra, dec) in deg\n",
      "    (1.791724, 0.89142)>\n",
      "<SkyCoord (ICRS): (ra, dec) in deg\n",
      "    (1.86256, 2.686657)>\n",
      "<SkyCoord (ICRS): (ra, dec) in deg\n",
      "    (2.144651, 0.532275)>\n",
      "<SkyCoord (ICRS): (ra, dec) in deg\n",
      "    (2.728555, 0.247597)>\n",
      "<SkyCoord (ICRS): (ra, dec) in deg\n",
      "    (4.17797, 1.657545)>\n",
      "<SkyCoord (ICRS): (ra, dec) in deg\n",
      "    (4.440985, 1.605679)>\n",
      "<SkyCoord (ICRS): (ra, dec) in deg\n",
      "    (191.879038, -1.707726)>\n",
      "<SkyCoord (ICRS): (ra, dec) in deg\n",
      "    (218.450896, 1.493778)>\n",
      "<SkyCoord (ICRS): (ra, dec) in deg\n",
      "    (219.103393, -0.484825)>\n"
     ]
    }
   ],
   "source": [
    "for i in observable_table['target name']:\n",
    "    coord = SkyCoord.from_name(i)\n",
    "    coordlist.append(coord)\n",
    "    print(coord)"
   ]
  },
  {
   "cell_type": "code",
   "execution_count": 28,
   "metadata": {},
   "outputs": [
    {
     "data": {
      "text/plain": [
       "[<FixedTarget \"LBQS 0003+0011\" at SkyCoord (ICRS): (ra, dec) in deg (22.3245, 0.4771)>,\n",
       " <FixedTarget \"LBQS 0004+0036\" at SkyCoord (ICRS): (ra, dec) in deg (26.874, 0.8912)>,\n",
       " <FixedTarget \"LBQS 0004+0224\" at SkyCoord (ICRS): (ra, dec) in deg (27.939, 2.6866)>,\n",
       " <FixedTarget \"LBQS 0006+0015\" at SkyCoord (ICRS): (ra, dec) in deg (32.1705, 0.532)>,\n",
       " <FixedTarget \"LBQS 0008-0001\" at SkyCoord (ICRS): (ra, dec) in deg (40.9305, 0.2474)>,\n",
       " <FixedTarget \"LBQS 0014+0122\" at SkyCoord (ICRS): (ra, dec) in deg (62.6715, 1.6575)>,\n",
       " <FixedTarget \"LBQS 0015+0119\" at SkyCoord (ICRS): (ra, dec) in deg (66.615, 1.6056)>,\n",
       " <FixedTarget \"LBQS 1244-0126\" at SkyCoord (ICRS): (ra, dec) in deg (358.185, -1.7078)>,\n",
       " <FixedTarget \"LBQS 1431+0142\" at SkyCoord (ICRS): (ra, dec) in deg (36.7605, 1.4937)>,\n",
       " <FixedTarget \"LBQS 1433-0016\" at SkyCoord (ICRS): (ra, dec) in deg (46.551, -0.4847)>]"
      ]
     },
     "execution_count": 28,
     "metadata": {},
     "output_type": "execute_result"
    }
   ],
   "source": [
    "seeable_targets= [\n",
    "    targets[1],\n",
    "    targets[2],\n",
    "    targets[3],\n",
    "    targets[4],\n",
    "    targets[5],\n",
    "    targets[6],\n",
    "    targets[7],\n",
    "    targets[58],\n",
    "    targets[71],\n",
    "    targets[72]\n",
    "]\n",
    "seeable_targets"
   ]
  },
  {
   "cell_type": "code",
   "execution_count": 17,
   "metadata": {},
   "outputs": [
    {
     "data": {
      "text/html": [
       "<i>Table length=10</i>\n",
       "<table id=\"table90737966944\" class=\"table-striped table-bordered table-condensed\">\n",
       "<thead><tr><th>target name</th><th>ever observable</th><th>always observable</th><th>fraction of time observable</th><th>SkyCoord</th></tr></thead>\n",
       "<thead><tr><th>str15</th><th>bool</th><th>bool</th><th>float64</th><th>object</th></tr></thead>\n",
       "<tr><td>LBQS 0003+0011</td><td>True</td><td>False</td><td>0.23039215686274508</td><td>&lt;SkyCoord (ICRS): (ra, dec) in deg\n",
       "    (1.488523, 0.477165)&gt;</td></tr>\n",
       "<tr><td>LBQS 0004+0036</td><td>True</td><td>False</td><td>0.22916666666666666</td><td>&lt;SkyCoord (ICRS): (ra, dec) in deg\n",
       "    (1.791724, 0.89142)&gt;</td></tr>\n",
       "<tr><td>LBQS 0004+0224</td><td>True</td><td>False</td><td>0.22549019607843138</td><td>&lt;SkyCoord (ICRS): (ra, dec) in deg\n",
       "    (1.86256, 2.686657)&gt;</td></tr>\n",
       "<tr><td>LBQS 0006+0015</td><td>True</td><td>False</td><td>0.24754901960784315</td><td>&lt;SkyCoord (ICRS): (ra, dec) in deg\n",
       "    (2.144651, 0.532275)&gt;</td></tr>\n",
       "<tr><td>LBQS 0008-0001</td><td>True</td><td>False</td><td>0.2340686274509804</td><td>&lt;SkyCoord (ICRS): (ra, dec) in deg\n",
       "    (2.728555, 0.247597)&gt;</td></tr>\n",
       "<tr><td>LBQS 0014+0122</td><td>True</td><td>False</td><td>0.22549019607843138</td><td>&lt;SkyCoord (ICRS): (ra, dec) in deg\n",
       "    (4.17797, 1.657545)&gt;</td></tr>\n",
       "<tr><td>LBQS 0015+0119</td><td>True</td><td>False</td><td>0.2267156862745098</td><td>&lt;SkyCoord (ICRS): (ra, dec) in deg\n",
       "    (4.440985, 1.605679)&gt;</td></tr>\n",
       "<tr><td>LBQS 1244-0126</td><td>True</td><td>False</td><td>0.2267156862745098</td><td>&lt;SkyCoord (ICRS): (ra, dec) in deg\n",
       "    (191.879038, -1.707726)&gt;</td></tr>\n",
       "<tr><td>LBQS 1431+0142</td><td>True</td><td>False</td><td>0.2267156862745098</td><td>&lt;SkyCoord (ICRS): (ra, dec) in deg\n",
       "    (218.450896, 1.493778)&gt;</td></tr>\n",
       "<tr><td>LBQS 1433-0016</td><td>True</td><td>False</td><td>0.25245098039215685</td><td>&lt;SkyCoord (ICRS): (ra, dec) in deg\n",
       "    (219.103393, -0.484825)&gt;</td></tr>\n",
       "</table>"
      ],
      "text/plain": [
       "<Table length=10>\n",
       " target name   ...\n",
       "    str15      ...\n",
       "-------------- ...\n",
       "LBQS 0003+0011 ...\n",
       "LBQS 0004+0036 ...\n",
       "LBQS 0004+0224 ...\n",
       "LBQS 0006+0015 ...\n",
       "LBQS 0008-0001 ...\n",
       "LBQS 0014+0122 ...\n",
       "LBQS 0015+0119 ...\n",
       "LBQS 1244-0126 ...\n",
       "LBQS 1431+0142 ...\n",
       "LBQS 1433-0016 ..."
      ]
     },
     "execution_count": 17,
     "metadata": {},
     "output_type": "execute_result"
    }
   ],
   "source": [
    "observable_table['SkyCoord'] = coordlist\n",
    "observable_table"
   ]
  },
  {
   "cell_type": "markdown",
   "metadata": {},
   "source": [
    "### Explaination\n",
    "Skycoord could not actually look them all up by name so I looked for the names in the big list and counted. All the coords in the list above are wrong. List list below is right."
   ]
  },
  {
   "cell_type": "code",
   "execution_count": 29,
   "metadata": {},
   "outputs": [
    {
     "data": {
      "text/plain": [
       "[<FixedTarget \"LBQS 0003+0011\" at SkyCoord (ICRS): (ra, dec) in deg (22.3245, 0.4771)>,\n",
       " <FixedTarget \"LBQS 0004+0036\" at SkyCoord (ICRS): (ra, dec) in deg (26.874, 0.8912)>,\n",
       " <FixedTarget \"LBQS 0004+0224\" at SkyCoord (ICRS): (ra, dec) in deg (27.939, 2.6866)>,\n",
       " <FixedTarget \"LBQS 0006+0015\" at SkyCoord (ICRS): (ra, dec) in deg (32.1705, 0.532)>,\n",
       " <FixedTarget \"LBQS 0008-0001\" at SkyCoord (ICRS): (ra, dec) in deg (40.9305, 0.2474)>,\n",
       " <FixedTarget \"LBQS 0014+0122\" at SkyCoord (ICRS): (ra, dec) in deg (62.6715, 1.6575)>,\n",
       " <FixedTarget \"LBQS 0015+0119\" at SkyCoord (ICRS): (ra, dec) in deg (66.615, 1.6056)>,\n",
       " <FixedTarget \"LBQS 1244-0126\" at SkyCoord (ICRS): (ra, dec) in deg (358.185, -1.7078)>,\n",
       " <FixedTarget \"LBQS 1431+0142\" at SkyCoord (ICRS): (ra, dec) in deg (36.7605, 1.4937)>,\n",
       " <FixedTarget \"LBQS 1433-0016\" at SkyCoord (ICRS): (ra, dec) in deg (46.551, -0.4847)>]"
      ]
     },
     "execution_count": 29,
     "metadata": {},
     "output_type": "execute_result"
    }
   ],
   "source": [
    "seeable_targets"
   ]
  },
  {
   "cell_type": "code",
   "execution_count": null,
   "metadata": {},
   "outputs": [],
   "source": []
  }
 ],
 "metadata": {
  "kernelspec": {
   "display_name": "Python 3",
   "language": "python",
   "name": "python3"
  },
  "language_info": {
   "codemirror_mode": {
    "name": "ipython",
    "version": 3
   },
   "file_extension": ".py",
   "mimetype": "text/x-python",
   "name": "python",
   "nbconvert_exporter": "python",
   "pygments_lexer": "ipython3",
   "version": "3.6.4"
  }
 },
 "nbformat": 4,
 "nbformat_minor": 2
}
